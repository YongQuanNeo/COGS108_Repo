{
  "cells": [
    {
      "cell_type": "markdown",
      "metadata": {
        "id": "CoB_J33oKi9v"
      },
      "source": [
        "# COGS 108 -\n",
        "\n",
        "# Permissions\n",
        "\n",
        "Place an `X` in the appropriate bracket below to specify if you would like your group's project to be made available to the public. (Note that student names will be included (but PIDs will be scraped from any groups who include their PIDs).\n",
        "\n",
        "* [  ] YES - make available\n",
        "* [ X ] NO - keep private\n",
        "\n",
        "# Names\n",
        "\n",
        "- Yolanda Liu\n",
        "- Yong Quan Neo\n",
        "- Natalie Reyes\n",
        "- Scott Miller\n",
        "\n",
        "# Abstract\n"
      ]
    },
    {
      "cell_type": "markdown",
      "metadata": {
        "id": "HPxGrwWPKi9x"
      },
      "source": [
        "# Research Question"
      ]
    },
    {
      "cell_type": "markdown",
      "metadata": {
        "id": "W24mDiACKi9y"
      },
      "source": [
        "-  Include a specific, clear data science question.\n",
        "-  Make sure what you're measuring (variables) to answer the question is clear\n",
        "\n",
        "What is your research question? Include the specific question you're setting out to answer. This question should be specific, answerable with data, and clear. A general question with specific subquestions is permitted. (1-2 sentences)\n",
        "\n"
      ]
    },
    {
      "cell_type": "markdown",
      "metadata": {
        "id": "JbUvRFpTKi9y"
      },
      "source": [
        "## Background and Prior Work"
      ]
    },
    {
      "cell_type": "markdown",
      "metadata": {
        "id": "gq-9bcylKi9y"
      },
      "source": [
        "\n",
        "- Include a general introduction to your topic\n",
        "- Include explanation of what work has been done previously\n",
        "- Include citations or links to previous work\n",
        "\n",
        "This section will present the background and context of your topic and question in a few paragraphs. Include a general introduction to your topic and then describe what information you currently know about the topic after doing your initial research. Include references to other projects who have asked similar questions or approached similar problems. Explain what others have learned in their projects.\n",
        "\n",
        "Find some relevant prior work, and reference those sources, summarizing what each did and what they learned. Even if you think you have a totally novel question, find the most similar prior work that you can and discuss how it relates to your project.\n",
        "\n",
        "References can be research publications, but they need not be. Blogs, GitHub repositories, company websites, etc., are all viable references if they are relevant to your project. It must be clear which information comes from which references. (2-3 paragraphs, including at least 2 references)\n",
        "\n",
        "  **Use inline citation through HTML footnotes to specify which references support which statements**\n",
        "\n",
        "For example: After government genocide in the 20th century, real birds were replaced with surveillance drones designed to look just like birds.<a name=\"cite_ref-1\"></a>[<sup>1</sup>](#cite_note-1) Use a minimum of 2 or 3 citations, but we prefer more.<a name=\"cite_ref-2\"></a>[<sup>2</sup>](#cite_note-2) You need enough to fully explain and back up important facts.\n",
        "\n",
        "Note that if you click a footnote number in the paragraph above it will transport you to the proper entry in the footnotes list below.  And if you click the ^ in the footnote entry, it will return you to the place in the main text where the footnote is made.\n",
        "\n",
        "To understand the HTML here, `<a name=\"#...\"> </a>` is a tag that allows you produce a named reference for a given location.  Markdown has the construciton `[text with hyperlink](#named reference)` that will produce a clickable link that transports you the named reference.\n",
        "\n",
        "1. <a name=\"cite_note-1\"></a> [^](#cite_ref-1) Lorenz, T. (9 Dec 2021) Birds Aren’t Real, or Are They? Inside a Gen Z Conspiracy Theory. *The New York Times*. https://www.nytimes.com/2021/12/09/technology/birds-arent-real-gen-z-misinformation.html\n",
        "2. <a name=\"cite_note-2\"></a> [^](#cite_ref-2) Also refs should be important to the background, not some randomly chosen vaguely related stuff. Include a web link if possible in refs as above.\n"
      ]
    },
    {
      "cell_type": "markdown",
      "metadata": {
        "id": "TfiH_9qUKi9z"
      },
      "source": [
        "# Hypothesis\n"
      ]
    },
    {
      "cell_type": "markdown",
      "metadata": {
        "id": "o_eURWV_Ki9z"
      },
      "source": [
        "\n",
        "- Include your team's hypothesis\n",
        "- Ensure that this hypothesis is clear to readers\n",
        "- Explain why you think this will be the outcome (what was your thinking?)\n",
        "\n",
        "What is your main hypothesis/predictions about what the answer to your question is? Briefly explain your thinking. (2-3 sentences)"
      ]
    },
    {
      "cell_type": "markdown",
      "metadata": {
        "id": "CcBY1ToEKi9z"
      },
      "source": [
        "# Data"
      ]
    },
    {
      "cell_type": "markdown",
      "metadata": {
        "id": "uvEPr4kQKi9z"
      },
      "source": [
        "## Data overview\n",
        "\n",
        "For each dataset include the following information\n",
        "- Dataset #1\n",
        "  - Dataset Name:\n",
        "  - Link to the dataset:\n",
        "  - Number of observations:\n",
        "  - Number of variables:\n",
        "- Dataset #2 (if you have more than one!)\n",
        "  - Dataset Name:\n",
        "  - Link to the dataset:\n",
        "  - Number of observations:\n",
        "  - Number of variables:\n",
        "- etc\n",
        "\n",
        "Now write 2 - 5 sentences describing each dataset here. Include a short description of the important variables in the dataset; what the metrics and datatypes are, what concepts they may be proxies for. Include information about how you would need to wrangle/clean/preprocess the dataset\n",
        "\n",
        "If you plan to use multiple datasets, add a few sentences about how you plan to combine these datasets."
      ]
    },
    {
      "cell_type": "markdown",
      "metadata": {
        "id": "pkzHjZFWKi9z"
      },
      "source": [
        "## Dataset #1 (use name instead of number here)"
      ]
    },
    {
      "cell_type": "code",
      "execution_count": null,
      "metadata": {
        "id": "DVRqexR2Ki9z"
      },
      "outputs": [],
      "source": [
        "## YOUR CODE TO LOAD/CLEAN/TIDY/WRANGLE THE DATA GOES HERE\n",
        "## FEEL FREE TO ADD MULTIPLE CELLS PER SECTION"
      ]
    },
    {
      "cell_type": "markdown",
      "metadata": {
        "id": "TFWQun8OKi90"
      },
      "source": [
        "## Dataset #2 (if you have more than one, use name instead of number here)"
      ]
    },
    {
      "cell_type": "code",
      "execution_count": null,
      "metadata": {
        "id": "6YaNjJU3Ki90"
      },
      "outputs": [],
      "source": [
        "## YOUR CODE TO LOAD/CLEAN/TIDY/WRANGLE THE DATA GOES HERE\n",
        "## FEEL FREE TO ADD MULTIPLE CELLS PER SECTION"
      ]
    },
    {
      "cell_type": "markdown",
      "metadata": {
        "id": "huSRmkjuKi90"
      },
      "source": [
        "# Results\n",
        "\n",
        "## Exploratory Data Analysis\n",
        "\n",
        "Carry out whatever EDA you need to for your project.  Because every project will be different we can't really give you much of a template at this point. But please make sure you describe the what and why in text here as well as providing interpretation of results and context."
      ]
    },
    {
      "cell_type": "markdown",
      "metadata": {
        "id": "ArEGcuwGKi90"
      },
      "source": [
        "## First Analysis You Did - Give it a better title\n",
        "\n",
        "Some more words and stuff.  Remember notebooks work best if you interleave the code that generates a result with properly annotate figures and text that puts these results into context."
      ]
    },
    {
      "cell_type": "code",
      "execution_count": null,
      "metadata": {
        "id": "rI-eh5cAKi90"
      },
      "outputs": [],
      "source": [
        "## YOUR CODE HERE\n",
        "## FEEL FREE TO ADD MULTIPLE CELLS PER SECTION"
      ]
    },
    {
      "cell_type": "markdown",
      "metadata": {
        "id": "zzT3m6evKi90"
      },
      "source": [
        "## Second Analysis You Did - Give it a better title\n",
        "\n",
        "Some more words and stuff.  Remember notebooks work best if you interleave the code that generates a result with properly annotate figures and text that puts these results into context."
      ]
    },
    {
      "cell_type": "code",
      "execution_count": null,
      "metadata": {
        "id": "y6o6WXZSKi90"
      },
      "outputs": [],
      "source": [
        "## YOUR CODE HERE\n",
        "## FEEL FREE TO ADD MULTIPLE CELLS PER SECTION"
      ]
    },
    {
      "cell_type": "markdown",
      "metadata": {
        "id": "1jRFcte1Ki90"
      },
      "source": [
        "## ETC AD NASEUM\n",
        "\n",
        "Some more words and stuff.  Remember notebooks work best if you interleave the code that generates a result with properly annotate figures and text that puts these results into context."
      ]
    },
    {
      "cell_type": "code",
      "execution_count": null,
      "metadata": {
        "id": "JQ_y70MSKi90"
      },
      "outputs": [],
      "source": [
        "## YOUR CODE HERE\n",
        "## FEEL FREE TO ADD MULTIPLE CELLS PER SECTION"
      ]
    },
    {
      "cell_type": "markdown",
      "metadata": {
        "id": "yfnTTVxqKi91"
      },
      "source": [
        "# Ethics & Privacy"
      ]
    },
    {
      "cell_type": "markdown",
      "metadata": {
        "id": "49mBricMKi91"
      },
      "source": [
        "- Thoughtful discussion of ethical concerns included\n",
        "- Ethical concerns consider the whole data science process (question asked, data collected, data being used, the bias in data, analysis, post-analysis, etc.)\n",
        "- How your group handled bias/ethical concerns clearly described\n",
        "\n",
        "Acknowledge and address any ethics & privacy related issues of your question(s), proposed dataset(s), and/or analyses. Use the information provided in lecture to guide your group discussion and thinking. If you need further guidance, check out [Deon's Ethics Checklist](http://deon.drivendata.org/#data-science-ethics-checklist). In particular:\n",
        "\n",
        "- Are there any biases/privacy/terms of use issues with the data you propsed?\n",
        "- Are there potential biases in your dataset(s), in terms of who it composes, and how it was collected, that may be problematic in terms of it allowing for equitable analysis? (For example, does your data exclude particular populations, or is it likely to reflect particular human biases in a way that could be a problem?)\n",
        "- How will you set out to detect these specific biases before, during, and after/when communicating your analysis?\n",
        "- Are there any other issues related to your topic area, data, and/or analyses that are potentially problematic in terms of data privacy and equitable impact?\n",
        "- How will you handle issues you identified?"
      ]
    },
    {
      "cell_type": "markdown",
      "metadata": {
        "id": "rDMNe-8-Ki91"
      },
      "source": [
        "# Discusison and Conclusion\n",
        "\n",
        "Wrap it all up here.  Somewhere between 3 and 10 paragraphs roughly.  A good time to refer back to your Background section and review how this work extended the previous stuff.\n",
        "\n",
        "\n",
        "# Team Contributions\n",
        "\n",
        "Speficy who did what.  This should be pretty granular, perhaps bullet points, no more than a few sentences per person."
      ]
    }
  ],
  "metadata": {
    "kernelspec": {
      "display_name": "Python 3 (ipykernel)",
      "language": "python",
      "name": "python3"
    },
    "language_info": {
      "codemirror_mode": {
        "name": "ipython",
        "version": 3
      },
      "file_extension": ".py",
      "mimetype": "text/x-python",
      "name": "python",
      "nbconvert_exporter": "python",
      "pygments_lexer": "ipython3",
      "version": "3.9.7"
    },
    "colab": {
      "provenance": []
    }
  },
  "nbformat": 4,
  "nbformat_minor": 0
}